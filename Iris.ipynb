import matplotlib.pyplot as plt
import pandas as pd
import seaborn as sns
from sklearn.datasets import load_iris
from sklearn.model_selection import train_test_split
from sklearn.tree import DecisionTreeClassifier
from sklearn import tree
%matplotlib inline
from sklearn import metrics

data=pd.read_csv("C:\\Users\\JAYALAKSHMI\\Downloads\\Iris.csv")
